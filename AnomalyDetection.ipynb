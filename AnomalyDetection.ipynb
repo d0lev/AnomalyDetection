{
  "cells": [
    {
      "cell_type": "markdown",
      "metadata": {
        "id": "view-in-github",
        "colab_type": "text"
      },
      "source": [
        "<a href=\"https://colab.research.google.com/github/d0lev/AnomalyDetection/blob/main/AnomalyDetection.ipynb\" target=\"_parent\"><img src=\"https://colab.research.google.com/assets/colab-badge.svg\" alt=\"Open In Colab\"/></a>"
      ]
    },
    {
      "cell_type": "code",
      "execution_count": null,
      "metadata": {
        "id": "dC5__n5axUKX"
      },
      "outputs": [],
      "source": [
        "from google.colab import drive\n",
        "drive.mount('/content/drive')"
      ]
    },
    {
      "cell_type": "code",
      "execution_count": 2,
      "metadata": {
        "id": "eCX5juaIyQEo"
      },
      "outputs": [],
      "source": [
        "import pandas as pd\n",
        "import seaborn as sns\n",
        "import numpy as np\n",
        "import matplotlib.pyplot as plt"
      ]
    },
    {
      "cell_type": "markdown",
      "metadata": {
        "id": "FGutzIBf8ya9"
      },
      "source": [
        "Import the data set that represented by a CSV file, and defining the columns that describe the attributes of each record in the data set."
      ]
    },
    {
      "cell_type": "code",
      "execution_count": 3,
      "metadata": {
        "id": "eQ5cEnJ2yVF0"
      },
      "outputs": [],
      "source": [
        "data_path = \"/content/drive/MyDrive/AnomalyDetection/conn_attack.csv\"\n",
        "dataset = pd.read_csv(data_path , names = [\"Record_id\",\"Duration\",\"Src_bytes\",\"Dst_bytes\"] , header = None)"
      ]
    },
    {
      "cell_type": "markdown",
      "metadata": {
        "id": "h83D2Vrrolt7"
      },
      "source": [
        "Before we perform the EDA step, we need to perform pre-processing on the data set to see if there are data that could mislead the model or that do not represent the sample space.\n",
        "\n",
        "# **Preprocessing**\n",
        "---\n",
        "in this part, I will check if the dataset contains null values in each row, and also because our dataset represents network traffic it may be weird if source bytes, destination bytes, and duration may have negative values."
      ]
    },
    {
      "cell_type": "code",
      "execution_count": 4,
      "metadata": {
        "colab": {
          "base_uri": "https://localhost:8080/"
        },
        "id": "9hhZ3QoTqJKg",
        "outputId": "be4c7199-77c4-45a0-cbdd-12d419ebf793"
      },
      "outputs": [
        {
          "output_type": "execute_result",
          "data": {
            "text/plain": [
              "False"
            ]
          },
          "metadata": {},
          "execution_count": 4
        }
      ],
      "source": [
        "# The isna() method returns a DataFrame object where all the values are replaced with a Boolean value True for NA (not-a -number) values, and otherwise False.\n",
        "# The any() method returns one value for each column, True if ANY value in that column is True, otherwise False.\n",
        "dataset.isna().any().any() "
      ]
    },
    {
      "cell_type": "code",
      "execution_count": 5,
      "metadata": {
        "colab": {
          "base_uri": "https://localhost:8080/"
        },
        "id": "GtC4u5aXseRI",
        "outputId": "a51e01ab-a63f-4c64-d297-5afa7847959c"
      },
      "outputs": [
        {
          "output_type": "execute_result",
          "data": {
            "text/plain": [
              "False"
            ]
          },
          "metadata": {},
          "execution_count": 5
        }
      ],
      "source": [
        "(dataset < 0).any().any()"
      ]
    },
    {
      "cell_type": "markdown",
      "metadata": {
        "id": "_2HCqnVK7-EX"
      },
      "source": [
        "## **Exploratory Data Analysis** (EDA)\n",
        "\n",
        "---\n",
        "In statistics, exploratory data analysis (EDA) is an approach of analyzing data sets to summarize their main characteristics, often using statistical graphics and other data visualization methods. A statistical model can be used or not, but primarily EDA is for seeing what the data can tell us beyond the formal modeling and thereby contrasts traditional hypothesis testing. (Wikipedia)\n"
      ]
    },
    {
      "cell_type": "code",
      "execution_count": 6,
      "metadata": {
        "colab": {
          "base_uri": "https://localhost:8080/"
        },
        "id": "4hYtgbf8-JSP",
        "outputId": "c2ce70c5-5656-4521-9d63-1ad6655d5fea"
      },
      "outputs": [
        {
          "output_type": "stream",
          "name": "stdout",
          "text": [
            "Dataset shape : (256670, 4)\n"
          ]
        }
      ],
      "source": [
        "print (f'Dataset shape : {dataset.shape}')"
      ]
    },
    {
      "cell_type": "markdown",
      "metadata": {
        "id": "cIEvZIx8go0r"
      },
      "source": [
        "Since we have two attributes in our data set that describe the number of bytes received and sent by the host, it is interesting to check whether for the same record - the number of bytes sent is greater than the number of bytes received?"
      ]
    },
    {
      "cell_type": "code",
      "execution_count": 7,
      "metadata": {
        "colab": {
          "base_uri": "https://localhost:8080/",
          "height": 393
        },
        "id": "0RvdBpmjgYzo",
        "outputId": "3bc4e12c-9350-409e-97ea-45c2ccc5aaa1"
      },
      "outputs": [
        {
          "output_type": "display_data",
          "data": {
            "text/plain": [
              "<Figure size 2160x504 with 1 Axes>"
            ],
            "image/png": "[encoded data removed]"
          },
          "metadata": {
            "needs_background": "light"
          }
        }
      ],
      "source": [
        "names = ['more than 0 bytes were sent and 0 bytes were received','source bytes that are greater than destination bytes ', 'destination bytes that are greater than source bytes']\n",
        "\n",
        "values = [dataset[(dataset['Src_bytes'] > 0) & (dataset['Dst_bytes'] == 0)].shape[0],dataset[dataset['Dst_bytes'] < dataset['Src_bytes']].shape[0], dataset[dataset['Dst_bytes'] > dataset['Src_bytes']].shape[0]]\n",
        "\n",
        "plt.figure(figsize=(30, 7))\n",
        "plt.text(names[0], y = values[0] + 1000 , s=f\"{values[0]} \" , fontdict = dict(fontsize = 15),  horizontalalignment='center')\n",
        "plt.text(names[1], y = values[1] + 3000, s=f\"{values[1]} \" , fontdict = dict(fontsize = 15) ,  horizontalalignment='center')\n",
        "plt.text(names[2], y = values[2] + 3000, s=f\"{values[1]} \" , fontdict = dict(fontsize = 15) ,  horizontalalignment='center')\n",
        "plt.bar(names, values)\n",
        "plt.show()\n"
      ]
    },
    {
      "cell_type": "markdown",
      "metadata": {
        "id": "UjKtyeAXxKVZ"
      },
      "source": [
        "As you can see there are 13,424 records (0.05% from the dataset) according to which the number of bytes sent by the host is greater than the number of bytes received for those bytes,\n",
        "In addition, there are 50 cases where 0 bytes were received when more than 0 bytes were sent.\n",
        "\n",
        "does this raise the suspicion of anomalous information?"
      ]
    },
    {
      "cell_type": "markdown",
      "metadata": {
        "id": "icrsE77QlQAn"
      },
      "source": [
        "The duration feature describes the duration of the connection between the client and the server, based on the definition of the attribute in the data set \n",
        ":\n",
        "If there is a connection whose length is less than 1, for example - 0.17 seconds, the attribute value will be equal to zero.\n",
        "It is interesting to know how many such records there are and whether a record that contains zeros in a certain attribute may affect the prediction of the model."
      ]
    },
    {
      "cell_type": "code",
      "execution_count": 8,
      "metadata": {
        "id": "jMU6ru6emc3i"
      },
      "outputs": [],
      "source": [
        "records_with_zero = dataset[dataset['Duration'] == 0].shape[0]"
      ]
    },
    {
      "cell_type": "code",
      "execution_count": 9,
      "metadata": {
        "colab": {
          "base_uri": "https://localhost:8080/"
        },
        "id": "LjJYKTz1le0I",
        "outputId": "fc035ccd-c603-4bc8-dc1d-4e25b187b612"
      },
      "outputs": [
        {
          "output_type": "stream",
          "name": "stdout",
          "text": [
            "the amount of records that contains zero in Duration feature is : 255168\n",
            "which make up about 0.9941481279463903 percent of the data set\n"
          ]
        }
      ],
      "source": [
        "print(\"the amount of records that contains zero in Duration feature is : {0}\\nwhich make up about {1} percent of the data set\".format(records_with_zero, (records_with_zero / dataset.shape[0])))"
      ]
    },
    {
      "cell_type": "markdown",
      "source": [
        "**[box-plot :\n",
        "explain the parameters & how its describe the dataset]**"
      ],
      "metadata": {
        "id": "RfPhEoGwk1bz"
      }
    },
    {
      "cell_type": "code",
      "source": [
        "fig, (ax1, ax2) = plt.subplots(1,2, figsize=(30,7))\n",
        "ax1.set_title('Box-Plot of source bytes')\n",
        "ax1.boxplot(dataset['Src_bytes'] ,showfliers = False)\n",
        "ax2.set_title('Box-Plot of destination bytes')\n",
        "ax2.boxplot(dataset['Dst_bytes'] ,showfliers = False)\n",
        "plt.show()"
      ],
      "metadata": {
        "colab": {
          "base_uri": "https://localhost:8080/",
          "height": 412
        },
        "id": "5XMU1W9PF2sU",
        "outputId": "98987297-9de8-4362-af7c-2f4ec69bc1b5"
      },
      "execution_count": 10,
      "outputs": [
        {
          "output_type": "display_data",
          "data": {
            "text/plain": [
              "<Figure size 2160x504 with 2 Axes>"
            ],
            "image/png": "[encoded data removed]"
          },
          "metadata": {
            "needs_background": "light"
          }
        }
      ]
    },
    {
      "cell_type": "code",
      "source": [
        "def calculate_limits(column):\n",
        "  q1 = dataset[column].describe()['25%']\n",
        "  q3 = dataset[column].describe()['75%']\n",
        "  iqr = q3 - q1\n",
        "  limit_lower = q1 - 1.5 * iqr\n",
        "  limit_upper = q3 + 1.5 * iqr\n",
        "  return limit_lower , limit_upper"
      ],
      "metadata": {
        "id": "AH4eptzRAh61"
      },
      "execution_count": 11,
      "outputs": []
    },
    {
      "cell_type": "code",
      "source": [
        "limit_lower_src , limit_upper_src = calculate_limits('Src_bytes')\n",
        "lower_points_src = dataset[(dataset['Src_bytes'] < limit_lower_src)].shape[0]\n",
        "upper_points_src = dataset[(dataset['Src_bytes'] > limit_upper_src)].shape[0]\n",
        "\n",
        "print(\"Source bytes overview\")\n",
        "print(f'The number of points below the lower bound is {lower_points_src} The number of points above the upper bound is {upper_points_src}\\n')\n",
        "\n",
        "limit_lower_dst , limit_upper_dst = calculate_limits('Dst_bytes')\n",
        "lower_points_dst = dataset[(dataset['Dst_bytes'] < limit_lower_dst)].shape[0]\n",
        "upper_points_dst = dataset[(dataset['Dst_bytes'] > limit_upper_dst)].shape[0]\n",
        "\n",
        "print(\"Destination bytes overview\")\n",
        "print(f'The number of points below the lower bound is {lower_points_dst} The number of points above the upper bound is {upper_points_dst}')\n",
        "\n"
      ],
      "metadata": {
        "colab": {
          "base_uri": "https://localhost:8080/"
        },
        "id": "MpYkwhKJAcU7",
        "outputId": "76ccc04f-acc5-4a5d-eed1-4793c811e3b6"
      },
      "execution_count": 12,
      "outputs": [
        {
          "output_type": "stream",
          "name": "stdout",
          "text": [
            "Source bytes overview\n",
            "The number of points below the lower bound is 135 The number of points above the upper bound is 1874\n",
            "\n",
            "Destination bytes overview\n",
            "The number of points below the lower bound is 0 The number of points above the upper bound is 28847\n"
          ]
        }
      ]
    },
    {
      "cell_type": "markdown",
      "source": [
        "# **Choosing the model**\n",
        "\n",
        "---\n",
        "To solve the binary classification problem, I used the **Isolation Random Forest** model.\n",
        "\n",
        "**[explaine the model]**"
      ],
      "metadata": {
        "id": "xeFfGQfsuhcc"
      }
    },
    {
      "cell_type": "code",
      "execution_count": 13,
      "metadata": {
        "id": "eXxEgwgj06S8"
      },
      "outputs": [],
      "source": [
        "from sklearn.ensemble import IsolationForest"
      ]
    },
    {
      "cell_type": "code",
      "execution_count": 14,
      "metadata": {
        "id": "dYe9KY-W4h0v"
      },
      "outputs": [],
      "source": [
        "# since sklearn models works with numpy array format we need to convert our dataset to numpy array\n",
        "X = dataset.values"
      ]
    },
    {
      "cell_type": "code",
      "execution_count": 40,
      "metadata": {
        "id": "uPF_T5xk4SUG"
      },
      "outputs": [],
      "source": [
        "classifier = IsolationForest(contamination = .0041)\n",
        "classifier.fit(X)\n",
        "predictions = classifier.predict(X)"
      ]
    },
    {
      "cell_type": "code",
      "execution_count": 38,
      "metadata": {
        "id": "R8Q57F2J6moc",
        "colab": {
          "base_uri": "https://localhost:8080/"
        },
        "outputId": "5b0878a6-41de-496b-d26c-dbc895960bec"
      },
      "outputs": [
        {
          "output_type": "execute_result",
          "data": {
            "text/plain": [
              "0.9958974558771964"
            ]
          },
          "metadata": {},
          "execution_count": 38
        }
      ],
      "source": [
        "(predictions > 0).mean()"
      ]
    },
    {
      "cell_type": "code",
      "execution_count": 41,
      "metadata": {
        "id": "FmBwlY6C7Z54"
      },
      "outputs": [],
      "source": [
        "anomalies = np.where(predictions < 0)"
      ]
    },
    {
      "cell_type": "code",
      "execution_count": 42,
      "metadata": {
        "colab": {
          "base_uri": "https://localhost:8080/"
        },
        "id": "3lbrpSlA9TCn",
        "outputId": "b2810c1e-e818-4004-d1f9-713693367083"
      },
      "outputs": [
        {
          "output_type": "execute_result",
          "data": {
            "text/plain": [
              "1053"
            ]
          },
          "metadata": {},
          "execution_count": 42
        }
      ],
      "source": [
        "len(anomalies[0])"
      ]
    },
    {
      "cell_type": "code",
      "source": [
        "# save the model for inference\n",
        "import pickle\n",
        "pickle.dump(classifier, open(\"/content/drive/MyDrive/AnomalyDetection/classifier.pkl\",'wb'))"
      ],
      "metadata": {
        "id": "eyMRZS1_Tlge"
      },
      "execution_count": 48,
      "outputs": []
    },
    {
      "cell_type": "markdown",
      "source": [
        "# **Model Evaluation**\n",
        "\n",
        "---\n",
        "\n",
        "After we have trained the model on the given data set, we will now evaluate the model which is the process of using different evaluation metrics in order to evaluate the performance of the model.\n",
        "\n",
        "> Since we have the data set : `conn_attack_anomaly_labels` which describes the labeling of the data set on which we trained the model, we can use the Confusion Matrix to see the ability of the model to classify the records correctly.\n"
      ],
      "metadata": {
        "id": "u2LX9ITs9tL3"
      }
    },
    {
      "cell_type": "code",
      "source": [
        "labeled_dataset_path = \"/content/drive/MyDrive/AnomalyDetection/conn_attack_anomaly_labels.csv\"\n",
        "summary = pd.read_csv(labeled_dataset_path , names = ['record','label'] , header = None)\n",
        "\n",
        "# insert the model predictions that correspond to the record id\n",
        "summary.insert(1 , \"prediction\" , predictions)\n",
        "# since the binary classification of sklearn isolation random forest return -1 to anomalies and 1 to normal we need to map the output. \n",
        "summary['prediction'] = summary['prediction'].map({1:0 , -1:1})\n",
        "summary.head(5)"
      ],
      "metadata": {
        "id": "49jIOqNV9fx9"
      },
      "execution_count": null,
      "outputs": []
    },
    {
      "cell_type": "code",
      "source": [
        "from sklearn.metrics import confusion_matrix\n",
        "from sklearn.metrics import plot_confusion_matrix\n",
        "from sklearn.metrics import classification_report\n",
        "from sklearn.metrics import accuracy_score\n",
        "\n",
        "cm = sns.heatmap(confusion_matrix(summary['label'], summary['prediction']), annot=True, fmt='d')\n",
        "accuracy = accuracy_score(summary['label'], summary['prediction'])\n",
        "\n",
        "print(f'accuracy score : {accuracy}\\n')\n",
        "print(classification_report(summary['label'], summary['prediction']))"
      ],
      "metadata": {
        "colab": {
          "base_uri": "https://localhost:8080/",
          "height": 456
        },
        "id": "D83sQycmC9q0",
        "outputId": "c77b0d5b-9059-4182-ba5d-294514bb4634"
      },
      "execution_count": 44,
      "outputs": [
        {
          "output_type": "stream",
          "name": "stdout",
          "text": [
            "accuracy score : 0.999598706510305\n",
            "\n",
            "              precision    recall  f1-score   support\n",
            "\n",
            "           0       1.00      1.00      1.00    255648\n",
            "           1       0.94      0.96      0.95      1022\n",
            "\n",
            "    accuracy                           1.00    256670\n",
            "   macro avg       0.97      0.98      0.98    256670\n",
            "weighted avg       1.00      1.00      1.00    256670\n",
            "\n"
          ]
        },
        {
          "output_type": "display_data",
          "data": {
            "text/plain": [
              "<Figure size 432x288 with 2 Axes>"
            ],
            "image/png": "[encoded data removed]"
          },
          "metadata": {
            "needs_background": "light"
          }
        }
      ]
    },
    {
      "cell_type": "markdown",
      "source": [
        "## PCA"
      ],
      "metadata": {
        "id": "k3Tjj3RKM9zi"
      }
    },
    {
      "cell_type": "code",
      "source": [
        "from sklearn.decomposition import PCA\n",
        "from sklearn.preprocessing import StandardScaler\n",
        "\n",
        "\n",
        "scalar = StandardScaler()\n",
        "scalar.fit(dataset.iloc[:,1:])\n",
        "scaled_dataset = scalar.transform(dataset.iloc[:,1:])"
      ],
      "metadata": {
        "id": "vesM-u-bNCPr"
      },
      "execution_count": 45,
      "outputs": []
    },
    {
      "cell_type": "code",
      "source": [
        "pca = PCA(n_components = 2)\n",
        "pca.fit(scaled_dataset)\n",
        "x_pca = pca.transform(scaled_dataset)"
      ],
      "metadata": {
        "id": "cNjt4Ig-OFh7"
      },
      "execution_count": 46,
      "outputs": []
    },
    {
      "cell_type": "code",
      "source": [
        "plt.figure(figsize=(10,7))\n",
        "Y = np.array(summary['prediction'].to_list())\n",
        "\n",
        "scatter = plt.scatter(x_pca[:,0], x_pca[:,1], c = Y)\n",
        "\n",
        "# Creating Legends\n",
        "labels = np.unique(Y)\n",
        "handles = [plt.Line2D([],[],marker=\"o\", ls=\"\", color=scatter.cmap(scatter.norm(yi))) for yi in labels]\n",
        "\n",
        "\n",
        "plt.legend(handles, ['normal','outlier'], title = 'labels')\n",
        "# end of defining legends\n",
        "\n",
        "plt.axhline(0, color='gray')\n",
        "plt.axvline(0, color='gray')\n",
        "plt.show()\n"
      ],
      "metadata": {
        "colab": {
          "base_uri": "https://localhost:8080/",
          "height": 428
        },
        "id": "xXDyjbEgO0wT",
        "outputId": "86e715bc-731b-447f-fba9-5ec40a929616"
      },
      "execution_count": 47,
      "outputs": [
        {
          "output_type": "display_data",
          "data": {
            "text/plain": [
              "<Figure size 720x504 with 1 Axes>"
            ],
            "image/png": "[encoded data removed]"
          },
          "metadata": {
            "needs_background": "light"
          }
        }
      ]
    },
    {
      "cell_type": "code",
      "source": [
        "summary.to_csv(\"/content/drive/MyDrive/AnomalyDetection/results.csv\")"
      ],
      "metadata": {
        "id": "ccqR5g9pmt1_"
      },
      "execution_count": 50,
      "outputs": []
    }
  ],
  "metadata": {
    "colab": {
      "provenance": [],
      "machine_shape": "hm",
      "authorship_tag": "ABX9TyNLy6CqenQy1o/tqJrWTIIO",
      "include_colab_link": true
    },
    "gpuClass": "standard",
    "kernelspec": {
      "display_name": "Python 3",
      "name": "python3"
    },
    "language_info": {
      "name": "python"
    },
    "accelerator": "GPU"
  },
  "nbformat": 4,
  "nbformat_minor": 0
}